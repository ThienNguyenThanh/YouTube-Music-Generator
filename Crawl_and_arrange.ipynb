{
 "cells": [
  {
   "cell_type": "code",
   "execution_count": 101,
   "id": "44436d22-f782-4cda-8b80-ad70fb82eb69",
   "metadata": {},
   "outputs": [],
   "source": [
    "import pandas as pd \n",
    "import pytube as pt \n",
    "from pytube.contrib.channel import Channel as channel\n",
    "from pytube import YouTube as yt \n",
    "from pytube import Stream as stream\n",
    "from tqdm import tqdm\n",
    "import subprocess\n",
    "import os \n",
    "import time"
   ]
  },
  {
   "cell_type": "code",
   "execution_count": 100,
   "id": "32c00190-5df3-461e-a179-63c216bac6b9",
   "metadata": {},
   "outputs": [
    {
     "name": "stdout",
     "output_type": "stream",
     "text": [
      "Collecting tqdm\n",
      "  Using cached tqdm-4.64.0-py2.py3-none-any.whl (78 kB)\n",
      "Installing collected packages: tqdm\n",
      "Successfully installed tqdm-4.64.0\n"
     ]
    }
   ],
   "source": [
    "!pip install tqdm"
   ]
  },
  {
   "cell_type": "code",
   "execution_count": 13,
   "id": "3560e428-986b-46b0-81bc-87033df5f1f3",
   "metadata": {},
   "outputs": [],
   "source": [
    "def get_channel_metadata(channel_url):\n",
    "    channel_info = channel(channel_url)\n",
    "    cid = channel_info.channel_id\n",
    "    cname = channel_info.channel_name\n",
    "    video_generators = channel_info.url_generator\n",
    "    \n",
    "    return {\"channel_id\":cid,\n",
    "           \"name\":cname,\n",
    "           \"video_generators\":video_generators}"
   ]
  },
  {
   "cell_type": "code",
   "execution_count": 14,
   "id": "2b2f3261-1b51-43d7-b870-5ca2708085c9",
   "metadata": {},
   "outputs": [],
   "source": [
    "jova = get_channel_metadata(channel_url)"
   ]
  },
  {
   "cell_type": "code",
   "execution_count": 53,
   "id": "80277a7b-4e34-4fbf-b487-6deef1c2f673",
   "metadata": {},
   "outputs": [],
   "source": [
    "def get_videos_metadata(video):\n",
    "    video_name = video.title\n",
    "    length = video.length\n",
    "    views = video.views\n",
    "    publish_date = pd.to_datetime(video.publish_date)\n",
    "    return video_name,length,views,publish_date"
   ]
  },
  {
   "cell_type": "code",
   "execution_count": 25,
   "id": "b3bf87af-6334-43e3-811b-cae0c006ac7d",
   "metadata": {},
   "outputs": [],
   "source": [
    "url_generators = jova[\"video_generators\"]()\n",
    "while True:\n",
    "    video_url = next(url_generators)\n",
    "    video = yt(video_url)\n",
    "    break"
   ]
  },
  {
   "cell_type": "code",
   "execution_count": 47,
   "id": "d56e87c3-2888-481a-9cc8-25f60a5bcf6c",
   "metadata": {},
   "outputs": [
    {
     "data": {
      "text/plain": [
       "Timestamp('2022-05-25 00:00:00')"
      ]
     },
     "execution_count": 47,
     "metadata": {},
     "output_type": "execute_result"
    }
   ],
   "source": [
    "pd.to_datetime(video.publish_date)"
   ]
  },
  {
   "cell_type": "code",
   "execution_count": 117,
   "id": "3f193b33-bc9b-47c1-8753-5b5bffae22b5",
   "metadata": {},
   "outputs": [],
   "source": [
    "def interate_and_download(channel_url,dataset_folder = \"./dataset\",path_csv = None):\n",
    "    \"\"\"\n",
    "    This function get all the videos from a channel and then iterate through the \n",
    "    listed video urls, it then record the metadata of videos and create a table as wel\n",
    "    \"\"\"\n",
    "    \n",
    "    # get channel information \n",
    "    channel_info = channel(channel_url) \n",
    "    cid = channel_info.channel_id \n",
    "    cname = channel_info.channel_name \n",
    "    url_generators = channel_info.url_generator()\n",
    "    \n",
    "    # create folder to stored song \n",
    "    name_folder = \"\".join(ch for ch in cname if ch.isalnum())\n",
    "    folder_channel = os.listdir(dataset_folder)\n",
    "    path_folder = f\"{dataset_folder}/{name_folder}\"\n",
    "    if name_folder not in folder_channel:\n",
    "        os.makedirs(path_folder)\n",
    "    \n",
    "    # create list to save data, which will be convert to dataframe later\n",
    "    video_names = []\n",
    "    video_publish_date = []\n",
    "    video_lengths = []\n",
    "    video_views = []\n",
    "    video_paths = []\n",
    "    \n",
    "    video_urls = []\n",
    "    print(\"Get video links\")\n",
    "    while True:\n",
    "        try: \n",
    "            video_url = next(url_generators)\n",
    "            video_urls.append(video_url)\n",
    "        except StopIteration:\n",
    "            break\n",
    "    \n",
    "    print(\"Down load audio\")\n",
    "    for i in tqdm(range(len(video_urls))):\n",
    "\n",
    "        # create video object\n",
    "        video_url = video_urls[i]\n",
    "        video = yt(video_url)\n",
    "        # get and save video metadata\n",
    "        video_name,length,views,publish_date = get_videos_metadata(video)\n",
    "\n",
    "        video_names.append(video_name)\n",
    "        video_publish_date.append(publish_date)\n",
    "        video_lengths.append(length)\n",
    "        video_views.append(views)\n",
    "\n",
    "        # get and save audio\n",
    "        video_path = f\"{path_folder}/{i}.wav\"\n",
    "\n",
    "        video_paths.append(video_path)\n",
    "        id_tag = video.streams.filter(only_audio=True)[0]\n",
    "        down_stream = video.streams.get_by_itag(id_tag.itag)\n",
    "        down_stream.download(filename=video_path)\n",
    "\n",
    "        \n",
    "        \n",
    "    # create dataframe to save metadata\n",
    "        \n",
    "    dict_data = {\n",
    "        \"video_names\":video_names,\n",
    "        \"video_publish_date\" : video_publish_date,\n",
    "        \"video_lentghs\" : video_lengths,\n",
    "        \"video_views\" : video_views,\n",
    "        \"video_paths\" : video_paths,\n",
    "        \"video_url\": video_urls\n",
    "    }\n",
    "    df = pd.DataFrame(data = dict_data)\n",
    "    df[\"channel_name\"] = cname\n",
    "    df[\"channel_id\"] = cid\n",
    "    \n",
    "    if path_csv:\n",
    "        df.to_csv(path_csv)\n",
    "    \n",
    "    return dict_data\n",
    "\n",
    "    "
   ]
  },
  {
   "cell_type": "code",
   "execution_count": 118,
   "id": "bfa6d9cb-dc58-42ad-bbcc-c91f1da051de",
   "metadata": {},
   "outputs": [],
   "source": [
    "channel_url = \"https://www.youtube.com/channel/UCMlZ4aOHBJnPGJAM5s-7b4w\""
   ]
  },
  {
   "cell_type": "code",
   "execution_count": null,
   "id": "0711a86e-3efe-48ad-aefc-b732e69436e4",
   "metadata": {},
   "outputs": [
    {
     "name": "stdout",
     "output_type": "stream",
     "text": [
      "Get video links\n",
      "Down load audio\n"
     ]
    },
    {
     "name": "stderr",
     "output_type": "stream",
     "text": [
      " 99%|████████████████████████████████████████▍| 779/790 [25:14<00:23,  2.12s/it]"
     ]
    }
   ],
   "source": [
    "piano_tutorials = interate_and_download(channel_url,path_csv = \"./metadatacsv/pianotutorial.csv\")"
   ]
  },
  {
   "cell_type": "code",
   "execution_count": null,
   "id": "82219eb8-f22d-48a8-9081-661f341497fc",
   "metadata": {},
   "outputs": [],
   "source": [
    "piano_tutorials.keys()"
   ]
  },
  {
   "cell_type": "code",
   "execution_count": 111,
   "id": "38727ecc-8bf7-4f34-827a-087989f5008c",
   "metadata": {},
   "outputs": [
    {
     "data": {
      "text/plain": [
       "790"
      ]
     },
     "execution_count": 111,
     "metadata": {},
     "output_type": "execute_result"
    }
   ],
   "source": [
    "len(piano_tutorials[\"video_names\"])"
   ]
  },
  {
   "cell_type": "code",
   "execution_count": 112,
   "id": "b1781e37-0ffb-4f67-87bb-f48aaf60a40e",
   "metadata": {},
   "outputs": [
    {
     "data": {
      "text/plain": [
       "790"
      ]
     },
     "execution_count": 112,
     "metadata": {},
     "output_type": "execute_result"
    }
   ],
   "source": [
    "len(piano_tutorials[\"video_publish_date\"])"
   ]
  },
  {
   "cell_type": "code",
   "execution_count": 113,
   "id": "1cfc5ea6-2523-4039-bcbb-62044a897ef3",
   "metadata": {},
   "outputs": [
    {
     "data": {
      "text/plain": [
       "790"
      ]
     },
     "execution_count": 113,
     "metadata": {},
     "output_type": "execute_result"
    }
   ],
   "source": [
    "len(piano_tutorials[\"video_lentghs\"])"
   ]
  },
  {
   "cell_type": "code",
   "execution_count": 114,
   "id": "07dff1fa-fd06-4e52-8839-056e19e7766d",
   "metadata": {},
   "outputs": [
    {
     "data": {
      "text/plain": [
       "0"
      ]
     },
     "execution_count": 114,
     "metadata": {},
     "output_type": "execute_result"
    }
   ],
   "source": [
    "len(piano_tutorials[\"video_views\"])"
   ]
  },
  {
   "cell_type": "code",
   "execution_count": 115,
   "id": "1f596b2a-ddee-40d1-a171-989dcbcaf0eb",
   "metadata": {},
   "outputs": [
    {
     "data": {
      "text/plain": [
       "790"
      ]
     },
     "execution_count": 115,
     "metadata": {},
     "output_type": "execute_result"
    }
   ],
   "source": [
    "len(piano_tutorials[\"video_paths\"])"
   ]
  },
  {
   "cell_type": "code",
   "execution_count": 116,
   "id": "804b7670-9844-4c76-9af5-9f616a78ef6d",
   "metadata": {},
   "outputs": [
    {
     "data": {
      "text/plain": [
       "790"
      ]
     },
     "execution_count": 116,
     "metadata": {},
     "output_type": "execute_result"
    }
   ],
   "source": [
    "len(piano_tutorials[\"video_url\"])"
   ]
  },
  {
   "cell_type": "code",
   "execution_count": null,
   "id": "c969c5b3-019d-4b15-af7b-d6ce19feeb9e",
   "metadata": {},
   "outputs": [],
   "source": []
  },
  {
   "cell_type": "code",
   "execution_count": null,
   "id": "f7178f83-9683-45c7-9df1-4304205855d2",
   "metadata": {},
   "outputs": [],
   "source": []
  },
  {
   "cell_type": "code",
   "execution_count": 104,
   "id": "258b2b13-d138-4e93-bf1e-6d66885086d1",
   "metadata": {},
   "outputs": [],
   "source": [
    "import os, shutil\n",
    "folder = \"./dataset/PianoTutorial\"\n",
    "for filename in os.listdir(folder):\n",
    "    file_path = os.path.join(folder, filename)\n",
    "    try:\n",
    "        if os.path.isfile(file_path) or os.path.islink(file_path):\n",
    "            os.unlink(file_path)\n",
    "        elif os.path.isdir(file_path):\n",
    "            shutil.rmtree(file_path)\n",
    "    except Exception as e:\n",
    "        print('Failed to delete %s. Reason: %s' % (file_path, e))"
   ]
  },
  {
   "cell_type": "code",
   "execution_count": 93,
   "id": "d0328290-831f-4a74-862f-66da858dd713",
   "metadata": {},
   "outputs": [
    {
     "data": {
      "text/plain": [
       "['Crawl_and_arrange.ipynb',\n",
       " 'TODO.txt',\n",
       " 'dataset',\n",
       " 'README.md',\n",
       " 'daft_crawl_data.py',\n",
       " '.gitignore',\n",
       " '.ipynb_checkpoints',\n",
       " '.git',\n",
       " 'metadatacsv']"
      ]
     },
     "execution_count": 93,
     "metadata": {},
     "output_type": "execute_result"
    }
   ],
   "source": [
    "os.listdir(\"./\")"
   ]
  },
  {
   "cell_type": "code",
   "execution_count": null,
   "id": "7c2e741a-fc27-4e55-aed2-38f7cd77dede",
   "metadata": {},
   "outputs": [],
   "source": []
  }
 ],
 "metadata": {
  "kernelspec": {
   "display_name": "Python 3 (ipykernel)",
   "language": "python",
   "name": "python3"
  },
  "language_info": {
   "codemirror_mode": {
    "name": "ipython",
    "version": 3
   },
   "file_extension": ".py",
   "mimetype": "text/x-python",
   "name": "python",
   "nbconvert_exporter": "python",
   "pygments_lexer": "ipython3",
   "version": "3.9.12"
  }
 },
 "nbformat": 4,
 "nbformat_minor": 5
}
